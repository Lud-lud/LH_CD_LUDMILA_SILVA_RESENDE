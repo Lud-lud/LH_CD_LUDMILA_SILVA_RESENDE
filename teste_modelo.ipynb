{
  "nbformat": 4,
  "nbformat_minor": 0,
  "metadata": {
    "colab": {
      "provenance": []
    },
    "kernelspec": {
      "name": "python3",
      "display_name": "Python 3"
    },
    "language_info": {
      "name": "python"
    }
  },
  "cells": [
    {
      "cell_type": "markdown",
      "source": [
        "# Previsão de preços de aluguéis com o modelo XGBoost"
      ],
      "metadata": {
        "id": "8B5FdO2msinA"
      }
    },
    {
      "cell_type": "code",
      "source": [
        "import pickle\n",
        "import pandas as pd"
      ],
      "metadata": {
        "id": "CrTaAF-qtqdb"
      },
      "execution_count": 26,
      "outputs": []
    },
    {
      "cell_type": "code",
      "execution_count": 27,
      "metadata": {
        "id": "yt2Xytz9sZ12"
      },
      "outputs": [],
      "source": [
        "\"\"\"Carregar modelo em formato .pkl\"\"\"\n",
        "\n",
        "with open(\"modelo_xgboost.pkl\", \"rb\") as file:\n",
        "    modelo = pickle.load(file)"
      ]
    },
    {
      "cell_type": "code",
      "source": [
        "dados = pd.DataFrame({'id': [2595],\n",
        "        'nome': ['Skylit Midtown Castle'],\n",
        "        'host_id': [2845],\n",
        "        'host_name': ['Jennifer'],\n",
        "        'bairro_group': ['Manhattan'],\n",
        "        'bairro': ['Midtown'],\n",
        "        'latitude': [40.75362],\n",
        "        'longitude': [-73.98377],\n",
        "        'room_type': ['Entire home/apt'],\n",
        "        'minimo_noites': [1],\n",
        "        'numero_de_reviews': [45],\n",
        "        'ultima_review': ['2019-05-21'],\n",
        "        'reviews_por_mes': [0.38],\n",
        "        'calculado_host_listings_count': [2],\n",
        "        'disponibilidade_365': [355]\n",
        "        })\n",
        "\n",
        "dados.head()"
      ],
      "metadata": {
        "colab": {
          "base_uri": "https://localhost:8080/",
          "height": 135
        },
        "id": "yOhRTie2stJ7",
        "outputId": "70213893-7c28-47d7-e1d5-fa9b56e30567"
      },
      "execution_count": 28,
      "outputs": [
        {
          "output_type": "execute_result",
          "data": {
            "text/plain": [
              "     id                   nome  host_id host_name bairro_group   bairro  \\\n",
              "0  2595  Skylit Midtown Castle     2845  Jennifer    Manhattan  Midtown   \n",
              "\n",
              "   latitude  longitude        room_type  minimo_noites  numero_de_reviews  \\\n",
              "0  40.75362  -73.98377  Entire home/apt              1                 45   \n",
              "\n",
              "  ultima_review  reviews_por_mes  calculado_host_listings_count  \\\n",
              "0    2019-05-21             0.38                              2   \n",
              "\n",
              "   disponibilidade_365  \n",
              "0                  355  "
            ],
            "text/html": [
              "\n",
              "  <div id=\"df-be9b2f53-444a-4df2-8f8b-21e7be834793\" class=\"colab-df-container\">\n",
              "    <div>\n",
              "<style scoped>\n",
              "    .dataframe tbody tr th:only-of-type {\n",
              "        vertical-align: middle;\n",
              "    }\n",
              "\n",
              "    .dataframe tbody tr th {\n",
              "        vertical-align: top;\n",
              "    }\n",
              "\n",
              "    .dataframe thead th {\n",
              "        text-align: right;\n",
              "    }\n",
              "</style>\n",
              "<table border=\"1\" class=\"dataframe\">\n",
              "  <thead>\n",
              "    <tr style=\"text-align: right;\">\n",
              "      <th></th>\n",
              "      <th>id</th>\n",
              "      <th>nome</th>\n",
              "      <th>host_id</th>\n",
              "      <th>host_name</th>\n",
              "      <th>bairro_group</th>\n",
              "      <th>bairro</th>\n",
              "      <th>latitude</th>\n",
              "      <th>longitude</th>\n",
              "      <th>room_type</th>\n",
              "      <th>minimo_noites</th>\n",
              "      <th>numero_de_reviews</th>\n",
              "      <th>ultima_review</th>\n",
              "      <th>reviews_por_mes</th>\n",
              "      <th>calculado_host_listings_count</th>\n",
              "      <th>disponibilidade_365</th>\n",
              "    </tr>\n",
              "  </thead>\n",
              "  <tbody>\n",
              "    <tr>\n",
              "      <th>0</th>\n",
              "      <td>2595</td>\n",
              "      <td>Skylit Midtown Castle</td>\n",
              "      <td>2845</td>\n",
              "      <td>Jennifer</td>\n",
              "      <td>Manhattan</td>\n",
              "      <td>Midtown</td>\n",
              "      <td>40.75362</td>\n",
              "      <td>-73.98377</td>\n",
              "      <td>Entire home/apt</td>\n",
              "      <td>1</td>\n",
              "      <td>45</td>\n",
              "      <td>2019-05-21</td>\n",
              "      <td>0.38</td>\n",
              "      <td>2</td>\n",
              "      <td>355</td>\n",
              "    </tr>\n",
              "  </tbody>\n",
              "</table>\n",
              "</div>\n",
              "    <div class=\"colab-df-buttons\">\n",
              "\n",
              "  <div class=\"colab-df-container\">\n",
              "    <button class=\"colab-df-convert\" onclick=\"convertToInteractive('df-be9b2f53-444a-4df2-8f8b-21e7be834793')\"\n",
              "            title=\"Convert this dataframe to an interactive table.\"\n",
              "            style=\"display:none;\">\n",
              "\n",
              "  <svg xmlns=\"http://www.w3.org/2000/svg\" height=\"24px\" viewBox=\"0 -960 960 960\">\n",
              "    <path d=\"M120-120v-720h720v720H120Zm60-500h600v-160H180v160Zm220 220h160v-160H400v160Zm0 220h160v-160H400v160ZM180-400h160v-160H180v160Zm440 0h160v-160H620v160ZM180-180h160v-160H180v160Zm440 0h160v-160H620v160Z\"/>\n",
              "  </svg>\n",
              "    </button>\n",
              "\n",
              "  <style>\n",
              "    .colab-df-container {\n",
              "      display:flex;\n",
              "      gap: 12px;\n",
              "    }\n",
              "\n",
              "    .colab-df-convert {\n",
              "      background-color: #E8F0FE;\n",
              "      border: none;\n",
              "      border-radius: 50%;\n",
              "      cursor: pointer;\n",
              "      display: none;\n",
              "      fill: #1967D2;\n",
              "      height: 32px;\n",
              "      padding: 0 0 0 0;\n",
              "      width: 32px;\n",
              "    }\n",
              "\n",
              "    .colab-df-convert:hover {\n",
              "      background-color: #E2EBFA;\n",
              "      box-shadow: 0px 1px 2px rgba(60, 64, 67, 0.3), 0px 1px 3px 1px rgba(60, 64, 67, 0.15);\n",
              "      fill: #174EA6;\n",
              "    }\n",
              "\n",
              "    .colab-df-buttons div {\n",
              "      margin-bottom: 4px;\n",
              "    }\n",
              "\n",
              "    [theme=dark] .colab-df-convert {\n",
              "      background-color: #3B4455;\n",
              "      fill: #D2E3FC;\n",
              "    }\n",
              "\n",
              "    [theme=dark] .colab-df-convert:hover {\n",
              "      background-color: #434B5C;\n",
              "      box-shadow: 0px 1px 3px 1px rgba(0, 0, 0, 0.15);\n",
              "      filter: drop-shadow(0px 1px 2px rgba(0, 0, 0, 0.3));\n",
              "      fill: #FFFFFF;\n",
              "    }\n",
              "  </style>\n",
              "\n",
              "    <script>\n",
              "      const buttonEl =\n",
              "        document.querySelector('#df-be9b2f53-444a-4df2-8f8b-21e7be834793 button.colab-df-convert');\n",
              "      buttonEl.style.display =\n",
              "        google.colab.kernel.accessAllowed ? 'block' : 'none';\n",
              "\n",
              "      async function convertToInteractive(key) {\n",
              "        const element = document.querySelector('#df-be9b2f53-444a-4df2-8f8b-21e7be834793');\n",
              "        const dataTable =\n",
              "          await google.colab.kernel.invokeFunction('convertToInteractive',\n",
              "                                                    [key], {});\n",
              "        if (!dataTable) return;\n",
              "\n",
              "        const docLinkHtml = 'Like what you see? Visit the ' +\n",
              "          '<a target=\"_blank\" href=https://colab.research.google.com/notebooks/data_table.ipynb>data table notebook</a>'\n",
              "          + ' to learn more about interactive tables.';\n",
              "        element.innerHTML = '';\n",
              "        dataTable['output_type'] = 'display_data';\n",
              "        await google.colab.output.renderOutput(dataTable, element);\n",
              "        const docLink = document.createElement('div');\n",
              "        docLink.innerHTML = docLinkHtml;\n",
              "        element.appendChild(docLink);\n",
              "      }\n",
              "    </script>\n",
              "  </div>\n",
              "\n",
              "\n",
              "    </div>\n",
              "  </div>\n"
            ],
            "application/vnd.google.colaboratory.intrinsic+json": {
              "type": "dataframe",
              "variable_name": "dados",
              "summary": "{\n  \"name\": \"dados\",\n  \"rows\": 1,\n  \"fields\": [\n    {\n      \"column\": \"id\",\n      \"properties\": {\n        \"dtype\": \"number\",\n        \"std\": null,\n        \"min\": 2595,\n        \"max\": 2595,\n        \"num_unique_values\": 1,\n        \"samples\": [\n          2595\n        ],\n        \"semantic_type\": \"\",\n        \"description\": \"\"\n      }\n    },\n    {\n      \"column\": \"nome\",\n      \"properties\": {\n        \"dtype\": \"string\",\n        \"num_unique_values\": 1,\n        \"samples\": [\n          \"Skylit Midtown Castle\"\n        ],\n        \"semantic_type\": \"\",\n        \"description\": \"\"\n      }\n    },\n    {\n      \"column\": \"host_id\",\n      \"properties\": {\n        \"dtype\": \"number\",\n        \"std\": null,\n        \"min\": 2845,\n        \"max\": 2845,\n        \"num_unique_values\": 1,\n        \"samples\": [\n          2845\n        ],\n        \"semantic_type\": \"\",\n        \"description\": \"\"\n      }\n    },\n    {\n      \"column\": \"host_name\",\n      \"properties\": {\n        \"dtype\": \"string\",\n        \"num_unique_values\": 1,\n        \"samples\": [\n          \"Jennifer\"\n        ],\n        \"semantic_type\": \"\",\n        \"description\": \"\"\n      }\n    },\n    {\n      \"column\": \"bairro_group\",\n      \"properties\": {\n        \"dtype\": \"string\",\n        \"num_unique_values\": 1,\n        \"samples\": [\n          \"Manhattan\"\n        ],\n        \"semantic_type\": \"\",\n        \"description\": \"\"\n      }\n    },\n    {\n      \"column\": \"bairro\",\n      \"properties\": {\n        \"dtype\": \"string\",\n        \"num_unique_values\": 1,\n        \"samples\": [\n          \"Midtown\"\n        ],\n        \"semantic_type\": \"\",\n        \"description\": \"\"\n      }\n    },\n    {\n      \"column\": \"latitude\",\n      \"properties\": {\n        \"dtype\": \"number\",\n        \"std\": null,\n        \"min\": 40.75362,\n        \"max\": 40.75362,\n        \"num_unique_values\": 1,\n        \"samples\": [\n          40.75362\n        ],\n        \"semantic_type\": \"\",\n        \"description\": \"\"\n      }\n    },\n    {\n      \"column\": \"longitude\",\n      \"properties\": {\n        \"dtype\": \"number\",\n        \"std\": null,\n        \"min\": -73.98377,\n        \"max\": -73.98377,\n        \"num_unique_values\": 1,\n        \"samples\": [\n          -73.98377\n        ],\n        \"semantic_type\": \"\",\n        \"description\": \"\"\n      }\n    },\n    {\n      \"column\": \"room_type\",\n      \"properties\": {\n        \"dtype\": \"string\",\n        \"num_unique_values\": 1,\n        \"samples\": [\n          \"Entire home/apt\"\n        ],\n        \"semantic_type\": \"\",\n        \"description\": \"\"\n      }\n    },\n    {\n      \"column\": \"minimo_noites\",\n      \"properties\": {\n        \"dtype\": \"number\",\n        \"std\": null,\n        \"min\": 1,\n        \"max\": 1,\n        \"num_unique_values\": 1,\n        \"samples\": [\n          1\n        ],\n        \"semantic_type\": \"\",\n        \"description\": \"\"\n      }\n    },\n    {\n      \"column\": \"numero_de_reviews\",\n      \"properties\": {\n        \"dtype\": \"number\",\n        \"std\": null,\n        \"min\": 45,\n        \"max\": 45,\n        \"num_unique_values\": 1,\n        \"samples\": [\n          45\n        ],\n        \"semantic_type\": \"\",\n        \"description\": \"\"\n      }\n    },\n    {\n      \"column\": \"ultima_review\",\n      \"properties\": {\n        \"dtype\": \"object\",\n        \"num_unique_values\": 1,\n        \"samples\": [\n          \"2019-05-21\"\n        ],\n        \"semantic_type\": \"\",\n        \"description\": \"\"\n      }\n    },\n    {\n      \"column\": \"reviews_por_mes\",\n      \"properties\": {\n        \"dtype\": \"number\",\n        \"std\": null,\n        \"min\": 0.38,\n        \"max\": 0.38,\n        \"num_unique_values\": 1,\n        \"samples\": [\n          0.38\n        ],\n        \"semantic_type\": \"\",\n        \"description\": \"\"\n      }\n    },\n    {\n      \"column\": \"calculado_host_listings_count\",\n      \"properties\": {\n        \"dtype\": \"number\",\n        \"std\": null,\n        \"min\": 2,\n        \"max\": 2,\n        \"num_unique_values\": 1,\n        \"samples\": [\n          2\n        ],\n        \"semantic_type\": \"\",\n        \"description\": \"\"\n      }\n    },\n    {\n      \"column\": \"disponibilidade_365\",\n      \"properties\": {\n        \"dtype\": \"number\",\n        \"std\": null,\n        \"min\": 355,\n        \"max\": 355,\n        \"num_unique_values\": 1,\n        \"samples\": [\n          355\n        ],\n        \"semantic_type\": \"\",\n        \"description\": \"\"\n      }\n    }\n  ]\n}"
            }
          },
          "metadata": {},
          "execution_count": 28
        }
      ]
    },
    {
      "cell_type": "code",
      "source": [
        "\"\"\"Retirar variáveis que não estão no modelo\"\"\"\n",
        "\n",
        "dados = dados.drop(columns=['id', 'bairro_group', 'room_type', 'nome', 'host_id', 'host_name', 'ultima_review', 'bairro'], axis=1)\n",
        "\n",
        "\"\"\"Adicionar dummies manualmente (já que temos apenas uma categoria, a função get_dummies não funciona)\"\"\"\n",
        "\n",
        "dummies = pd.DataFrame({'bairro_group_brooklyn': [0],\n",
        "                        'bairro_group_manhattan': [1],\n",
        "                        'bairro_group_queens': [0],\n",
        "                        'bairro_group_staten_island': [0],\n",
        "                        'room_type_private_room': [0],\n",
        "                        'room_type_shared_room': [0]})\n",
        "\n",
        "dados = pd.concat([dados, dummies], axis=1)\n",
        "\n",
        "dados.info()"
      ],
      "metadata": {
        "colab": {
          "base_uri": "https://localhost:8080/"
        },
        "id": "PP0qKY8SsrL-",
        "outputId": "14edc2d6-ac13-4873-e110-0c9068a52ca5"
      },
      "execution_count": 29,
      "outputs": [
        {
          "output_type": "stream",
          "name": "stdout",
          "text": [
            "<class 'pandas.core.frame.DataFrame'>\n",
            "RangeIndex: 1 entries, 0 to 0\n",
            "Data columns (total 13 columns):\n",
            " #   Column                         Non-Null Count  Dtype  \n",
            "---  ------                         --------------  -----  \n",
            " 0   latitude                       1 non-null      float64\n",
            " 1   longitude                      1 non-null      float64\n",
            " 2   minimo_noites                  1 non-null      int64  \n",
            " 3   numero_de_reviews              1 non-null      int64  \n",
            " 4   reviews_por_mes                1 non-null      float64\n",
            " 5   calculado_host_listings_count  1 non-null      int64  \n",
            " 6   disponibilidade_365            1 non-null      int64  \n",
            " 7   bairro_group_brooklyn          1 non-null      int64  \n",
            " 8   bairro_group_manhattan         1 non-null      int64  \n",
            " 9   bairro_group_queens            1 non-null      int64  \n",
            " 10  bairro_group_staten_island     1 non-null      int64  \n",
            " 11  room_type_private_room         1 non-null      int64  \n",
            " 12  room_type_shared_room          1 non-null      int64  \n",
            "dtypes: float64(3), int64(10)\n",
            "memory usage: 236.0 bytes\n"
          ]
        }
      ]
    },
    {
      "cell_type": "code",
      "source": [
        "lmbda =  0.22246548169533664"
      ],
      "metadata": {
        "id": "5nf10UC5tnhC"
      },
      "execution_count": 30,
      "outputs": []
    },
    {
      "cell_type": "code",
      "source": [
        "previsao = modelo.predict(pd.DataFrame(dados, index=[0]))\n",
        "\n",
        "\"\"\"Fazer o cálculo inverso da transformação de Box-Cox para obter o valor previsto original\"\"\"\n",
        "\n",
        "previsao = (previsao * lmbda + 1) ** (1 / lmbda)\n",
        "\n",
        "print(f\"Preço previsto: {previsao}\")"
      ],
      "metadata": {
        "colab": {
          "base_uri": "https://localhost:8080/"
        },
        "id": "in-Pwgcq6qsI",
        "outputId": "5285e122-8aa8-40fc-a3dd-f1ca36bd1349"
      },
      "execution_count": 31,
      "outputs": [
        {
          "output_type": "stream",
          "name": "stdout",
          "text": [
            "Preço previsto: [210.25581]\n"
          ]
        }
      ]
    }
  ]
}